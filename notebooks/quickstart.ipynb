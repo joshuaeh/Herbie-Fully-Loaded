{
 "cells": [
  {
   "cell_type": "markdown",
   "metadata": {},
   "source": [
    "# Quick start guide\n",
    "\n",
    "## Intro info"
   ]
  },
  {
   "cell_type": "markdown",
   "metadata": {},
   "source": []
  },
  {
   "cell_type": "markdown",
   "metadata": {},
   "source": [
    "Imports\n"
   ]
  },
  {
   "cell_type": "code",
   "execution_count": 1,
   "metadata": {},
   "outputs": [],
   "source": [
    "import os\n",
    "import sys\n",
    "import pytz\n",
    "import datetime\n"
   ]
  },
  {
   "cell_type": "code",
   "execution_count": 2,
   "metadata": {},
   "outputs": [],
   "source": [
    "sys.path.insert(0, os.path.abspath('..'))\n",
    "from gnomy.core import AMY"
   ]
  },
  {
   "cell_type": "markdown",
   "metadata": {},
   "source": [
    "Define arguments"
   ]
  },
  {
   "cell_type": "code",
   "execution_count": 3,
   "metadata": {},
   "outputs": [
    {
     "name": "stdout",
     "output_type": "stream",
     "text": [
      "2022-01-01 00:00:00\n"
     ]
    }
   ],
   "source": [
    "# name, latitude, longitude, time zone, start date, end date\n",
    "name = \"San Antonio, TX\"\n",
    "latitude = 29.25  # N\n",
    "longitude =   -98.31  # E (always defined in East, follow the convention in AMY.__init__ docstring)\n",
    "tz = pytz.timezone('America/Chicago')\n",
    "begin_date = datetime.datetime(2022,1,1)\n",
    "print(begin_date)\n",
    "end_date = datetime.datetime(2022,1,2)"
   ]
  },
  {
   "cell_type": "markdown",
   "metadata": {},
   "source": [
    "Intialize AMY object"
   ]
  },
  {
   "cell_type": "code",
   "execution_count": 4,
   "metadata": {},
   "outputs": [],
   "source": [
    "SanAntonio2022 = AMY(latitude=latitude, longitude=longitude, name=name)\n"
   ]
  },
  {
   "cell_type": "markdown",
   "metadata": {},
   "source": [
    "Creating a sample AMY\n",
    "outputs include headline"
   ]
  },
  {
   "cell_type": "code",
   "execution_count": 7,
   "metadata": {},
   "outputs": [
    {
     "ename": "TypeError",
     "evalue": "expected str, bytes or os.PathLike object, not NoneType",
     "output_type": "error",
     "traceback": [
      "\u001b[1;31m---------------------------------------------------------------------------\u001b[0m",
      "\u001b[1;31mTypeError\u001b[0m                                 Traceback (most recent call last)",
      "\u001b[1;32mc:\\Users\\liama\\OneDrive\\NewVSCode\\gnomy\\notebooks\\quickstart.ipynb Cell 11\u001b[0m line \u001b[0;36m1\n\u001b[1;32m----> <a href='vscode-notebook-cell:/c%3A/Users/liama/OneDrive/NewVSCode/gnomy/notebooks/quickstart.ipynb#X13sZmlsZQ%3D%3D?line=0'>1</a>\u001b[0m SanAntonio2022\u001b[39m.\u001b[39;49mcreate_amy(start_date\u001b[39m=\u001b[39;49mbegin_date,end_date\u001b[39m=\u001b[39;49mend_date)\n",
      "File \u001b[1;32mc:\\Users\\liama\\OneDrive\\NewVSCode\\gnomy\\gnomy\\core.py:130\u001b[0m, in \u001b[0;36mAMY.create_amy\u001b[1;34m(self, year, start_date, end_date, n_workers, cache_dir, rm_cache, amy_target_path, verbose)\u001b[0m\n\u001b[0;32m    124\u001b[0m \u001b[39massert\u001b[39;00m (\n\u001b[0;32m    125\u001b[0m     start_date\u001b[39m.\u001b[39myear \u001b[39m>\u001b[39m\u001b[39m=\u001b[39m constants\u001b[39m.\u001b[39mHRRR_first_year\n\u001b[0;32m    126\u001b[0m ), \u001b[39mf\u001b[39m\u001b[39m\"\u001b[39m\u001b[39mFirst year of HRRR data is \u001b[39m\u001b[39m{\u001b[39;00mconstants\u001b[39m.\u001b[39mHRRR_first_year\u001b[39m}\u001b[39;00m\u001b[39m\"\u001b[39m\n\u001b[0;32m    127\u001b[0m \u001b[39m# TODO: add check for 1 complete year of data. or figrue how to account for less than a full year\u001b[39;00m\n\u001b[0;32m    128\u001b[0m \u001b[39m# TODO: design so that preprocessing/downloading and subsequent processing can be done separately\u001b[39;00m\n\u001b[0;32m    129\u001b[0m \u001b[39m# preprocess\u001b[39;00m\n\u001b[1;32m--> 130\u001b[0m \u001b[39mself\u001b[39;49m\u001b[39m.\u001b[39;49mpreprocess(cache_dir, start_date, end_date, \u001b[39mself\u001b[39;49m\u001b[39m.\u001b[39;49mlatitude, \u001b[39mself\u001b[39;49m\u001b[39m.\u001b[39;49mlongitude)\n\u001b[0;32m    132\u001b[0m \u001b[39m# download and cache analysis data\u001b[39;00m\n\u001b[0;32m    133\u001b[0m \u001b[39mwhile\u001b[39;00m \u001b[39mself\u001b[39m\u001b[39m.\u001b[39muncached_dates:\n",
      "File \u001b[1;32mc:\\Users\\liama\\OneDrive\\NewVSCode\\gnomy\\gnomy\\core.py:166\u001b[0m, in \u001b[0;36mAMY.preprocess\u001b[1;34m(self, cache_dir, start_date, end_date, latitude, longitude, freq)\u001b[0m\n\u001b[0;32m    159\u001b[0m \u001b[39mdef\u001b[39;00m \u001b[39mpreprocess\u001b[39m(\u001b[39mself\u001b[39m, cache_dir, start_date, end_date, latitude, longitude, freq\u001b[39m=\u001b[39m\u001b[39m\"\u001b[39m\u001b[39m1H\u001b[39m\u001b[39m\"\u001b[39m):\n\u001b[0;32m    160\u001b[0m \u001b[39m    \u001b[39m\u001b[39m\"\"\"Prepare for AMY Generation and  initialize data structures\u001b[39;00m\n\u001b[0;32m    161\u001b[0m \u001b[39m    1. create site cache directory\u001b[39;00m\n\u001b[0;32m    162\u001b[0m \u001b[39m    2. identify uncached dates\u001b[39;00m\n\u001b[0;32m    163\u001b[0m \u001b[39m    3. create search strings\u001b[39;00m\n\u001b[0;32m    164\u001b[0m \u001b[39m    4. estimate coordinate projection components\u001b[39;00m\n\u001b[0;32m    165\u001b[0m \u001b[39m    \"\"\"\u001b[39;00m\n\u001b[1;32m--> 166\u001b[0m     \u001b[39mself\u001b[39m\u001b[39m.\u001b[39msite_cache_dir \u001b[39m=\u001b[39m \u001b[39mself\u001b[39;49m\u001b[39m.\u001b[39;49m_prep_chache_dir(cache_dir)\n\u001b[0;32m    167\u001b[0m     \u001b[39mself\u001b[39m\u001b[39m.\u001b[39muncached_dates \u001b[39m=\u001b[39m \u001b[39mself\u001b[39m\u001b[39m.\u001b[39m_identify_uncached_dates(cache_dir, start_date, end_date, freq\u001b[39m=\u001b[39m\u001b[39m\"\u001b[39m\u001b[39m1H\u001b[39m\u001b[39m\"\u001b[39m)\n\u001b[0;32m    168\u001b[0m     \u001b[39mself\u001b[39m\u001b[39m.\u001b[39msearch_string_0h \u001b[39m=\u001b[39m utils\u001b[39m.\u001b[39mget_search_string(\n\u001b[0;32m    169\u001b[0m         [i\u001b[39m.\u001b[39mget(\u001b[39m\"\u001b[39m\u001b[39msearchstring\u001b[39m\u001b[39m\"\u001b[39m) \u001b[39mfor\u001b[39;00m i \u001b[39min\u001b[39;00m constants\u001b[39m.\u001b[39m_grib_variables_0h\u001b[39m.\u001b[39mvalues()]\n\u001b[0;32m    170\u001b[0m     )\n",
      "File \u001b[1;32mc:\\Users\\liama\\OneDrive\\NewVSCode\\gnomy\\gnomy\\core.py:181\u001b[0m, in \u001b[0;36mAMY._prep_chache_dir\u001b[1;34m(self, cache_dir)\u001b[0m\n\u001b[0;32m    179\u001b[0m \u001b[39mdef\u001b[39;00m \u001b[39m_prep_chache_dir\u001b[39m(\u001b[39mself\u001b[39m, cache_dir):\n\u001b[0;32m    180\u001b[0m \u001b[39m    \u001b[39m\u001b[39m\"\"\"create cache directory and subdirectory for site\"\"\"\u001b[39;00m\n\u001b[1;32m--> 181\u001b[0m     os\u001b[39m.\u001b[39;49mmakedirs(cache_dir, exist_ok\u001b[39m=\u001b[39;49m\u001b[39mTrue\u001b[39;49;00m)\n\u001b[0;32m    182\u001b[0m     site_cache_dir \u001b[39m=\u001b[39m os\u001b[39m.\u001b[39mpath\u001b[39m.\u001b[39mjoin(cache_dir, \u001b[39mself\u001b[39m\u001b[39m.\u001b[39mname)\n\u001b[0;32m    183\u001b[0m     os\u001b[39m.\u001b[39mmakedirs(site_cache_dir, exist_ok\u001b[39m=\u001b[39m\u001b[39mTrue\u001b[39;00m)\n",
      "File \u001b[1;32m<frozen os>:210\u001b[0m, in \u001b[0;36mmakedirs\u001b[1;34m(name, mode, exist_ok)\u001b[0m\n",
      "File \u001b[1;32m<frozen ntpath>:213\u001b[0m, in \u001b[0;36msplit\u001b[1;34m(p)\u001b[0m\n",
      "\u001b[1;31mTypeError\u001b[0m: expected str, bytes or os.PathLike object, not NoneType"
     ]
    }
   ],
   "source": [
    "SanAntonio2022.create_amy(start_date=begin_date,end_date=end_date)"
   ]
  },
  {
   "cell_type": "code",
   "execution_count": null,
   "metadata": {},
   "outputs": [],
   "source": []
  }
 ],
 "metadata": {
  "kernelspec": {
   "display_name": "Python 3",
   "language": "python",
   "name": "python3"
  },
  "language_info": {
   "codemirror_mode": {
    "name": "ipython",
    "version": 3
   },
   "file_extension": ".py",
   "mimetype": "text/x-python",
   "name": "python",
   "nbconvert_exporter": "python",
   "pygments_lexer": "ipython3",
   "version": "3.11.5"
  },
  "orig_nbformat": 4
 },
 "nbformat": 4,
 "nbformat_minor": 2
}

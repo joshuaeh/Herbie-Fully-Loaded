{
 "cells": [
  {
   "cell_type": "markdown",
   "metadata": {},
   "source": [
    "# Wind Speed and Direction\n",
    "\n",
    "HRRR returns grib files with estimates at specific locations in a projected grid across the spherical surface of the earth. Becasue of this projection, the `u` and `v` components for wind speed and other values are not directly E or N respectively. By taking a second order estimate at the closest points to our location of interest, we estimate locally how much u and v contribute locally to the E and W vectors."
   ]
  },
  {
   "cell_type": "code",
   "execution_count": 8,
   "metadata": {},
   "outputs": [
    {
     "name": "stdout",
     "output_type": "stream",
     "text": [
      "['../gnomy/', '../gnomy/', '../gnomy/', '../gnomy/', '../gnomy/', 'C:\\\\Users\\\\liama\\\\.config\\\\herbie', 'c:\\\\Users\\\\liama\\\\OneDrive\\\\NewVSCode\\\\gnomy\\\\notebooks', 'C:\\\\Program Files\\\\PerkinElmerInformatics\\\\ChemOffice2020\\\\ChemScript\\\\Lib', 'c:\\\\Users\\\\liama\\\\miniconda3\\\\envs\\\\lonestar\\\\python311.zip', 'c:\\\\Users\\\\liama\\\\miniconda3\\\\envs\\\\lonestar\\\\DLLs', 'c:\\\\Users\\\\liama\\\\miniconda3\\\\envs\\\\lonestar\\\\Lib', 'c:\\\\Users\\\\liama\\\\miniconda3\\\\envs\\\\lonestar', '', 'c:\\\\Users\\\\liama\\\\miniconda3\\\\envs\\\\lonestar\\\\Lib\\\\site-packages', 'c:\\\\Users\\\\liama\\\\miniconda3\\\\envs\\\\lonestar\\\\Lib\\\\site-packages\\\\win32', 'c:\\\\Users\\\\liama\\\\miniconda3\\\\envs\\\\lonestar\\\\Lib\\\\site-packages\\\\win32\\\\lib', 'c:\\\\Users\\\\liama\\\\miniconda3\\\\envs\\\\lonestar\\\\Lib\\\\site-packages\\\\Pythonwin', '..', '..', '..']\n"
     ]
    }
   ],
   "source": [
    "import sys\n",
    "sys.path.append('..')\n",
    "print(sys.path)\n",
    "from gnomy import constants, core, utils\n",
    "\n",
    "from herbie import Herbie"
   ]
  },
  {
   "cell_type": "markdown",
   "metadata": {},
   "source": [
    "get wind speeds from HRRR analysis with Herbie"
   ]
  },
  {
   "cell_type": "code",
   "execution_count": 9,
   "metadata": {},
   "outputs": [
    {
     "name": "stdout",
     "output_type": "stream",
     "text": [
      "✅ Found ┊ model=hrrr ┊ \u001b[3mproduct=sfc\u001b[0m ┊ \u001b[38;2;41;130;13m2023-Jan-01 12:00 UTC\u001b[92m F00\u001b[0m ┊ \u001b[38;2;255;153;0m\u001b[3mGRIB2 @ aws\u001b[0m ┊ \u001b[38;2;255;153;0m\u001b[3mIDX @ aws\u001b[0m\n"
     ]
    },
    {
     "name": "stderr",
     "output_type": "stream",
     "text": [
      "c:\\Users\\liama\\miniconda3\\envs\\lonestar\\Lib\\site-packages\\herbie\\core.py:797: UserWarning: This pattern is interpreted as a regular expression, and has match groups. To actually get the groups, use str.extract.\n",
      "  logic = df.search_this.str.contains(searchString)\n"
     ]
    },
    {
     "name": "stdout",
     "output_type": "stream",
     "text": [
      "👨🏻‍🏭 Created directory: [C:\\Users\\liama\\data\\hrrr\\20230101]\n"
     ]
    },
    {
     "name": "stderr",
     "output_type": "stream",
     "text": [
      "c:\\Users\\liama\\miniconda3\\envs\\lonestar\\Lib\\site-packages\\herbie\\accessors.py:260: UserWarning: More than one time coordinate present for variable  \"gribfile_projection\".\n",
      "  ds = ds.metpy.parse_cf()\n",
      "c:\\Users\\liama\\miniconda3\\envs\\lonestar\\Lib\\site-packages\\herbie\\accessors.py:264: UserWarning: More than one time coordinate present for variable  \"u10\".\n",
      "  ds = ds.metpy.assign_y_x()\n",
      "c:\\Users\\liama\\miniconda3\\envs\\lonestar\\Lib\\site-packages\\herbie\\accessors.py:264: UserWarning: More than one time coordinate present for variable  \"v10\".\n",
      "  ds = ds.metpy.assign_y_x()\n",
      "c:\\Users\\liama\\miniconda3\\envs\\lonestar\\Lib\\site-packages\\herbie\\accessors.py:264: UserWarning: More than one time coordinate present for variable  \"gribfile_projection\".\n",
      "  ds = ds.metpy.assign_y_x()\n"
     ]
    },
    {
     "name": "stdout",
     "output_type": "stream",
     "text": [
      "Wind speed at nearest point:\n",
      "\tu: 0.14 m/s\n",
      "\tv: 1.24 m/s\n"
     ]
    },
    {
     "name": "stderr",
     "output_type": "stream",
     "text": [
      "c:\\Users\\liama\\miniconda3\\envs\\lonestar\\Lib\\site-packages\\pyproj\\transformer.py:820: FutureWarning: Calling float on a single element Series is deprecated and will raise a TypeError in the future. Use float(ser.iloc[0]) instead\n",
      "  return self._transformer._transform_point(\n"
     ]
    }
   ],
   "source": [
    "date=\"2023-01-01 12:00\"\n",
    "latitude=29.25\n",
    "longitude=360-98.31\n",
    "\n",
    "# get data\n",
    "H = Herbie(date, model='hrrr', product='sfc', fxx=0)\n",
    "ds = H.xarray(\"(:UGRD:10 m above ground:anl)|(:VGRD:10 m above ground:anl)\")\n",
    "dsi = ds.herbie.nearest_points((longitude, latitude))\n",
    "u10 = dsi.u10.values[0]\n",
    "v10 = dsi.v10.values[0]\n",
    "print(f\"Wind speed at nearest point:\\n\\tu: {u10:.2f} m/s\\n\\tv: {v10:.2f} m/s\")"
   ]
  },
  {
   "cell_type": "markdown",
   "metadata": {},
   "source": [
    "Get u and v components in the longitude and latitude directions.  \n",
    "$$V_{\\text{wind speed E/W}} = u10 * uc[0] + v10 * vc[0]$$\n",
    "$$V_{\\text{wind speed N/S}} = u10 * uc[1] + v10 * vc[1]$$"
   ]
  },
  {
   "cell_type": "code",
   "execution_count": 10,
   "metadata": {},
   "outputs": [
    {
     "name": "stdout",
     "output_type": "stream",
     "text": [
      "✅ Found ┊ model=hrrr ┊ \u001b[3mproduct=sfc\u001b[0m ┊ \u001b[38;2;41;130;13m2023-Jan-01 12:00 UTC\u001b[92m F00\u001b[0m ┊ \u001b[38;2;255;153;0m\u001b[3mGRIB2 @ aws\u001b[0m ┊ \u001b[38;2;255;153;0m\u001b[3mIDX @ aws\u001b[0m\n"
     ]
    },
    {
     "name": "stderr",
     "output_type": "stream",
     "text": [
      "c:\\Users\\liama\\miniconda3\\envs\\lonestar\\Lib\\site-packages\\herbie\\core.py:797: UserWarning: This pattern is interpreted as a regular expression, and has match groups. To actually get the groups, use str.extract.\n",
      "  logic = df.search_this.str.contains(searchString)\n"
     ]
    },
    {
     "name": "stdout",
     "output_type": "stream",
     "text": [
      "U components: (0.9999712998197906, 0.007576248195411632) m/s (lon, lat)\n",
      "V components: (-0.009952709059404449, 0.999950470564607) m/s (lon, lat)\n",
      "Wind speed at nearest point:\n",
      "\tV East: 0.13 m/s\n",
      "\tV North: 1.24 m/s\n"
     ]
    }
   ],
   "source": [
    "uc,vc = utils.get_coordinate_projections(date,latitude,longitude)\n",
    "print(f\"U components: {uc} m/s (lon, lat)\")\n",
    "print(f\"V components: {vc} m/s (lon, lat)\")\n",
    "Ve = u10*uc[0] + v10*vc[0]\n",
    "Vn = u10*uc[1] + v10*vc[1]\n",
    "print(f\"Wind speed at nearest point:\\n\\tV East: {Ve:.2f} m/s\\n\\tV North: {Vn:.2f} m/s\")"
   ]
  },
  {
   "cell_type": "markdown",
   "metadata": {},
   "source": [
    "Finally, get the compass direction and total wind speed"
   ]
  },
  {
   "cell_type": "code",
   "execution_count": 11,
   "metadata": {},
   "outputs": [
    {
     "name": "stdout",
     "output_type": "stream",
     "text": [
      "Wind direction at nearest point: 6 degrees\n",
      "Total wind speed at nearest point: 1.25 m/s\n"
     ]
    }
   ],
   "source": [
    "compass_heading = utils.get_wind_direction(Ve,Vn)\n",
    "print(f\"Wind direction at nearest point: {compass_heading:.0f} degrees\")\n",
    "\n",
    "total_wind_speed = utils.get_wind_speed(Ve,Vn)\n",
    "print(f\"Total wind speed at nearest point: {total_wind_speed:.2f} m/s\")"
   ]
  }
 ],
 "metadata": {
  "kernelspec": {
   "display_name": "amy",
   "language": "python",
   "name": "python3"
  },
  "language_info": {
   "codemirror_mode": {
    "name": "ipython",
    "version": 3
   },
   "file_extension": ".py",
   "mimetype": "text/x-python",
   "name": "python",
   "nbconvert_exporter": "python",
   "pygments_lexer": "ipython3",
   "version": "3.11.5"
  },
  "orig_nbformat": 4
 },
 "nbformat": 4,
 "nbformat_minor": 2
}

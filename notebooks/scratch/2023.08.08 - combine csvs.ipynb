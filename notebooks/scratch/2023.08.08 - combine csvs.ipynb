{
 "cells": [
  {
   "cell_type": "code",
   "execution_count": 1,
   "metadata": {},
   "outputs": [
    {
     "name": "stderr",
     "output_type": "stream",
     "text": [
      "/Users/jeh/Library/CloudStorage/OneDrive-TheUniversityofTexasatAustin/business/UTexas/projects/AMY/scratch/../AMY/utils.py:51: SyntaxWarning: \"is not\" with a literal. Did you mean \"!=\"?\n",
      "  if data_var is not \"gribfile_projection\":\n"
     ]
    }
   ],
   "source": [
    "import datetime\n",
    "import glob\n",
    "import os\n",
    "\n",
    "from herbie import Herbie\n",
    "import pandas as pd\n",
    "\n",
    "import sys\n",
    "sys.path.insert(0, os.path.join(\"..\", \"AMY\"))\n",
    "import constants, utils\n",
    "\n",
    "latitude = 29.25\n",
    "longitude = 360-98.31"
   ]
  },
  {
   "cell_type": "code",
   "execution_count": 2,
   "metadata": {},
   "outputs": [],
   "source": [
    "data_dir = \"/Users/jeh/Library/CloudStorage/OneDrive-TheUniversityofTexasatAustin/business/UTexas/projects/AMY/amyv2\"\n"
   ]
  },
  {
   "cell_type": "code",
   "execution_count": 25,
   "metadata": {},
   "outputs": [
    {
     "data": {
      "text/plain": [
       "'/Users/jeh/Library/CloudStorage/OneDrive-TheUniversityofTexasatAustin/business/UTexas/projects/AMY/amyv2/2021123119.csv'"
      ]
     },
     "execution_count": 25,
     "metadata": {},
     "output_type": "execute_result"
    }
   ],
   "source": [
    "df = pd.DataFrame()\n",
    "\n",
    "data_files = glob.glob(os.path.join(data_dir, \"*.csv\"))\n",
    "data_files.sort()\n",
    "data_files[0]"
   ]
  },
  {
   "cell_type": "code",
   "execution_count": 31,
   "metadata": {},
   "outputs": [
    {
     "data": {
      "text/html": [
       "<div>\n",
       "<style scoped>\n",
       "    .dataframe tbody tr th:only-of-type {\n",
       "        vertical-align: middle;\n",
       "    }\n",
       "\n",
       "    .dataframe tbody tr th {\n",
       "        vertical-align: top;\n",
       "    }\n",
       "\n",
       "    .dataframe thead th {\n",
       "        text-align: right;\n",
       "    }\n",
       "</style>\n",
       "<table border=\"1\" class=\"dataframe\">\n",
       "  <thead>\n",
       "    <tr style=\"text-align: right;\">\n",
       "      <th></th>\n",
       "      <th>tcc</th>\n",
       "      <th>ltng</th>\n",
       "      <th>gh</th>\n",
       "      <th>u10</th>\n",
       "      <th>v10</th>\n",
       "      <th>t2m</th>\n",
       "      <th>d2m</th>\n",
       "      <th>r2</th>\n",
       "      <th>mdens</th>\n",
       "      <th>hcc</th>\n",
       "      <th>...</th>\n",
       "      <th>crain</th>\n",
       "      <th>cfrzr</th>\n",
       "      <th>cicep</th>\n",
       "      <th>csnow</th>\n",
       "      <th>cpofp</th>\n",
       "      <th>snowc</th>\n",
       "      <th>gust</th>\n",
       "      <th>vbdsf</th>\n",
       "      <th>vddsf</th>\n",
       "      <th>gppbfas</th>\n",
       "    </tr>\n",
       "  </thead>\n",
       "  <tbody>\n",
       "    <tr>\n",
       "      <th>2021-12-31 19:00:00</th>\n",
       "      <td>81.0</td>\n",
       "      <td>0.0</td>\n",
       "      <td>798.5615</td>\n",
       "      <td>0.740710</td>\n",
       "      <td>3.719895</td>\n",
       "      <td>298.30490</td>\n",
       "      <td>294.54865</td>\n",
       "      <td>80.0</td>\n",
       "      <td>2.400000e-11</td>\n",
       "      <td>0.0</td>\n",
       "      <td>...</td>\n",
       "      <td>0.0</td>\n",
       "      <td>0.0</td>\n",
       "      <td>0.0</td>\n",
       "      <td>0.0</td>\n",
       "      <td>-50.0</td>\n",
       "      <td>0.0</td>\n",
       "      <td>9.439973</td>\n",
       "      <td>310.0</td>\n",
       "      <td>188.1</td>\n",
       "      <td>10.0</td>\n",
       "    </tr>\n",
       "    <tr>\n",
       "      <th>2021-12-31 20:00:00</th>\n",
       "      <td>4.0</td>\n",
       "      <td>0.0</td>\n",
       "      <td>NaN</td>\n",
       "      <td>0.064947</td>\n",
       "      <td>5.198508</td>\n",
       "      <td>300.31995</td>\n",
       "      <td>293.49902</td>\n",
       "      <td>66.2</td>\n",
       "      <td>1.600000e-11</td>\n",
       "      <td>0.0</td>\n",
       "      <td>...</td>\n",
       "      <td>0.0</td>\n",
       "      <td>0.0</td>\n",
       "      <td>0.0</td>\n",
       "      <td>0.0</td>\n",
       "      <td>-50.0</td>\n",
       "      <td>0.0</td>\n",
       "      <td>8.595409</td>\n",
       "      <td>840.0</td>\n",
       "      <td>98.6</td>\n",
       "      <td>10.0</td>\n",
       "    </tr>\n",
       "    <tr>\n",
       "      <th>2021-12-31 21:00:00</th>\n",
       "      <td>0.0</td>\n",
       "      <td>0.0</td>\n",
       "      <td>NaN</td>\n",
       "      <td>-0.717142</td>\n",
       "      <td>4.615349</td>\n",
       "      <td>301.48914</td>\n",
       "      <td>292.29065</td>\n",
       "      <td>57.5</td>\n",
       "      <td>1.073734e-25</td>\n",
       "      <td>0.0</td>\n",
       "      <td>...</td>\n",
       "      <td>0.0</td>\n",
       "      <td>0.0</td>\n",
       "      <td>0.0</td>\n",
       "      <td>0.0</td>\n",
       "      <td>-50.0</td>\n",
       "      <td>0.0</td>\n",
       "      <td>8.704385</td>\n",
       "      <td>784.0</td>\n",
       "      <td>88.0</td>\n",
       "      <td>10.0</td>\n",
       "    </tr>\n",
       "    <tr>\n",
       "      <th>2021-12-31 22:00:00</th>\n",
       "      <td>0.0</td>\n",
       "      <td>0.0</td>\n",
       "      <td>NaN</td>\n",
       "      <td>-0.566741</td>\n",
       "      <td>4.025953</td>\n",
       "      <td>301.36115</td>\n",
       "      <td>292.08496</td>\n",
       "      <td>57.1</td>\n",
       "      <td>1.600000e-11</td>\n",
       "      <td>0.0</td>\n",
       "      <td>...</td>\n",
       "      <td>0.0</td>\n",
       "      <td>0.0</td>\n",
       "      <td>0.0</td>\n",
       "      <td>0.0</td>\n",
       "      <td>-50.0</td>\n",
       "      <td>0.0</td>\n",
       "      <td>8.642900</td>\n",
       "      <td>673.0</td>\n",
       "      <td>70.1</td>\n",
       "      <td>10.0</td>\n",
       "    </tr>\n",
       "    <tr>\n",
       "      <th>2021-12-31 23:00:00</th>\n",
       "      <td>4.0</td>\n",
       "      <td>0.0</td>\n",
       "      <td>NaN</td>\n",
       "      <td>-1.730537</td>\n",
       "      <td>2.449102</td>\n",
       "      <td>300.05980</td>\n",
       "      <td>293.78275</td>\n",
       "      <td>65.3</td>\n",
       "      <td>1.600000e-11</td>\n",
       "      <td>0.0</td>\n",
       "      <td>...</td>\n",
       "      <td>0.0</td>\n",
       "      <td>0.0</td>\n",
       "      <td>0.0</td>\n",
       "      <td>0.0</td>\n",
       "      <td>-50.0</td>\n",
       "      <td>0.0</td>\n",
       "      <td>8.751717</td>\n",
       "      <td>352.2</td>\n",
       "      <td>43.9</td>\n",
       "      <td>10.0</td>\n",
       "    </tr>\n",
       "    <tr>\n",
       "      <th>...</th>\n",
       "      <td>...</td>\n",
       "      <td>...</td>\n",
       "      <td>...</td>\n",
       "      <td>...</td>\n",
       "      <td>...</td>\n",
       "      <td>...</td>\n",
       "      <td>...</td>\n",
       "      <td>...</td>\n",
       "      <td>...</td>\n",
       "      <td>...</td>\n",
       "      <td>...</td>\n",
       "      <td>...</td>\n",
       "      <td>...</td>\n",
       "      <td>...</td>\n",
       "      <td>...</td>\n",
       "      <td>...</td>\n",
       "      <td>...</td>\n",
       "      <td>...</td>\n",
       "      <td>...</td>\n",
       "      <td>...</td>\n",
       "      <td>...</td>\n",
       "    </tr>\n",
       "    <tr>\n",
       "      <th>2023-07-31 19:00:00</th>\n",
       "      <td>47.0</td>\n",
       "      <td>0.0</td>\n",
       "      <td>NaN</td>\n",
       "      <td>-0.467379</td>\n",
       "      <td>2.999463</td>\n",
       "      <td>311.14438</td>\n",
       "      <td>290.24330</td>\n",
       "      <td>31.9</td>\n",
       "      <td>2.400000e-10</td>\n",
       "      <td>47.0</td>\n",
       "      <td>...</td>\n",
       "      <td>0.0</td>\n",
       "      <td>0.0</td>\n",
       "      <td>0.0</td>\n",
       "      <td>0.0</td>\n",
       "      <td>-50.0</td>\n",
       "      <td>0.0</td>\n",
       "      <td>3.958838</td>\n",
       "      <td>930.0</td>\n",
       "      <td>93.6</td>\n",
       "      <td>10.0</td>\n",
       "    </tr>\n",
       "    <tr>\n",
       "      <th>2023-07-31 20:00:00</th>\n",
       "      <td>23.0</td>\n",
       "      <td>0.0</td>\n",
       "      <td>NaN</td>\n",
       "      <td>-1.946819</td>\n",
       "      <td>2.266475</td>\n",
       "      <td>311.69473</td>\n",
       "      <td>289.82043</td>\n",
       "      <td>30.0</td>\n",
       "      <td>4.000000e-10</td>\n",
       "      <td>0.0</td>\n",
       "      <td>...</td>\n",
       "      <td>0.0</td>\n",
       "      <td>0.0</td>\n",
       "      <td>0.0</td>\n",
       "      <td>0.0</td>\n",
       "      <td>-50.0</td>\n",
       "      <td>0.0</td>\n",
       "      <td>3.965197</td>\n",
       "      <td>918.0</td>\n",
       "      <td>92.0</td>\n",
       "      <td>10.0</td>\n",
       "    </tr>\n",
       "    <tr>\n",
       "      <th>2023-07-31 21:00:00</th>\n",
       "      <td>1.0</td>\n",
       "      <td>0.0</td>\n",
       "      <td>NaN</td>\n",
       "      <td>-2.053331</td>\n",
       "      <td>4.065327</td>\n",
       "      <td>311.82745</td>\n",
       "      <td>289.14996</td>\n",
       "      <td>28.3</td>\n",
       "      <td>4.800000e-10</td>\n",
       "      <td>0.0</td>\n",
       "      <td>...</td>\n",
       "      <td>0.0</td>\n",
       "      <td>0.0</td>\n",
       "      <td>0.0</td>\n",
       "      <td>0.0</td>\n",
       "      <td>-50.0</td>\n",
       "      <td>0.0</td>\n",
       "      <td>5.224808</td>\n",
       "      <td>901.0</td>\n",
       "      <td>85.0</td>\n",
       "      <td>10.0</td>\n",
       "    </tr>\n",
       "    <tr>\n",
       "      <th>2023-07-31 22:00:00</th>\n",
       "      <td>50.0</td>\n",
       "      <td>0.0</td>\n",
       "      <td>NaN</td>\n",
       "      <td>-1.496810</td>\n",
       "      <td>3.458135</td>\n",
       "      <td>311.90650</td>\n",
       "      <td>289.57263</td>\n",
       "      <td>28.6</td>\n",
       "      <td>6.400000e-10</td>\n",
       "      <td>50.0</td>\n",
       "      <td>...</td>\n",
       "      <td>0.0</td>\n",
       "      <td>0.0</td>\n",
       "      <td>0.0</td>\n",
       "      <td>0.0</td>\n",
       "      <td>-50.0</td>\n",
       "      <td>0.0</td>\n",
       "      <td>4.198729</td>\n",
       "      <td>846.0</td>\n",
       "      <td>84.4</td>\n",
       "      <td>10.0</td>\n",
       "    </tr>\n",
       "    <tr>\n",
       "      <th>2023-07-31 23:00:00</th>\n",
       "      <td>28.0</td>\n",
       "      <td>0.0</td>\n",
       "      <td>NaN</td>\n",
       "      <td>-1.747086</td>\n",
       "      <td>4.222704</td>\n",
       "      <td>311.61597</td>\n",
       "      <td>291.16785</td>\n",
       "      <td>31.4</td>\n",
       "      <td>5.600000e-10</td>\n",
       "      <td>28.0</td>\n",
       "      <td>...</td>\n",
       "      <td>0.0</td>\n",
       "      <td>0.0</td>\n",
       "      <td>0.0</td>\n",
       "      <td>0.0</td>\n",
       "      <td>-50.0</td>\n",
       "      <td>0.0</td>\n",
       "      <td>4.726249</td>\n",
       "      <td>761.0</td>\n",
       "      <td>74.7</td>\n",
       "      <td>10.0</td>\n",
       "    </tr>\n",
       "  </tbody>\n",
       "</table>\n",
       "<p>13853 rows × 28 columns</p>\n",
       "</div>"
      ],
      "text/plain": [
       "                      tcc  ltng        gh       u10       v10        t2m  \\\n",
       "2021-12-31 19:00:00  81.0   0.0  798.5615  0.740710  3.719895  298.30490   \n",
       "2021-12-31 20:00:00   4.0   0.0       NaN  0.064947  5.198508  300.31995   \n",
       "2021-12-31 21:00:00   0.0   0.0       NaN -0.717142  4.615349  301.48914   \n",
       "2021-12-31 22:00:00   0.0   0.0       NaN -0.566741  4.025953  301.36115   \n",
       "2021-12-31 23:00:00   4.0   0.0       NaN -1.730537  2.449102  300.05980   \n",
       "...                   ...   ...       ...       ...       ...        ...   \n",
       "2023-07-31 19:00:00  47.0   0.0       NaN -0.467379  2.999463  311.14438   \n",
       "2023-07-31 20:00:00  23.0   0.0       NaN -1.946819  2.266475  311.69473   \n",
       "2023-07-31 21:00:00   1.0   0.0       NaN -2.053331  4.065327  311.82745   \n",
       "2023-07-31 22:00:00  50.0   0.0       NaN -1.496810  3.458135  311.90650   \n",
       "2023-07-31 23:00:00  28.0   0.0       NaN -1.747086  4.222704  311.61597   \n",
       "\n",
       "                           d2m    r2         mdens   hcc  ...  crain  cfrzr  \\\n",
       "2021-12-31 19:00:00  294.54865  80.0  2.400000e-11   0.0  ...    0.0    0.0   \n",
       "2021-12-31 20:00:00  293.49902  66.2  1.600000e-11   0.0  ...    0.0    0.0   \n",
       "2021-12-31 21:00:00  292.29065  57.5  1.073734e-25   0.0  ...    0.0    0.0   \n",
       "2021-12-31 22:00:00  292.08496  57.1  1.600000e-11   0.0  ...    0.0    0.0   \n",
       "2021-12-31 23:00:00  293.78275  65.3  1.600000e-11   0.0  ...    0.0    0.0   \n",
       "...                        ...   ...           ...   ...  ...    ...    ...   \n",
       "2023-07-31 19:00:00  290.24330  31.9  2.400000e-10  47.0  ...    0.0    0.0   \n",
       "2023-07-31 20:00:00  289.82043  30.0  4.000000e-10   0.0  ...    0.0    0.0   \n",
       "2023-07-31 21:00:00  289.14996  28.3  4.800000e-10   0.0  ...    0.0    0.0   \n",
       "2023-07-31 22:00:00  289.57263  28.6  6.400000e-10  50.0  ...    0.0    0.0   \n",
       "2023-07-31 23:00:00  291.16785  31.4  5.600000e-10  28.0  ...    0.0    0.0   \n",
       "\n",
       "                     cicep  csnow  cpofp  snowc      gust  vbdsf  vddsf  \\\n",
       "2021-12-31 19:00:00    0.0    0.0  -50.0    0.0  9.439973  310.0  188.1   \n",
       "2021-12-31 20:00:00    0.0    0.0  -50.0    0.0  8.595409  840.0   98.6   \n",
       "2021-12-31 21:00:00    0.0    0.0  -50.0    0.0  8.704385  784.0   88.0   \n",
       "2021-12-31 22:00:00    0.0    0.0  -50.0    0.0  8.642900  673.0   70.1   \n",
       "2021-12-31 23:00:00    0.0    0.0  -50.0    0.0  8.751717  352.2   43.9   \n",
       "...                    ...    ...    ...    ...       ...    ...    ...   \n",
       "2023-07-31 19:00:00    0.0    0.0  -50.0    0.0  3.958838  930.0   93.6   \n",
       "2023-07-31 20:00:00    0.0    0.0  -50.0    0.0  3.965197  918.0   92.0   \n",
       "2023-07-31 21:00:00    0.0    0.0  -50.0    0.0  5.224808  901.0   85.0   \n",
       "2023-07-31 22:00:00    0.0    0.0  -50.0    0.0  4.198729  846.0   84.4   \n",
       "2023-07-31 23:00:00    0.0    0.0  -50.0    0.0  4.726249  761.0   74.7   \n",
       "\n",
       "                     gppbfas  \n",
       "2021-12-31 19:00:00     10.0  \n",
       "2021-12-31 20:00:00     10.0  \n",
       "2021-12-31 21:00:00     10.0  \n",
       "2021-12-31 22:00:00     10.0  \n",
       "2021-12-31 23:00:00     10.0  \n",
       "...                      ...  \n",
       "2023-07-31 19:00:00     10.0  \n",
       "2023-07-31 20:00:00     10.0  \n",
       "2023-07-31 21:00:00     10.0  \n",
       "2023-07-31 22:00:00     10.0  \n",
       "2023-07-31 23:00:00     10.0  \n",
       "\n",
       "[13853 rows x 28 columns]"
      ]
     },
     "execution_count": 31,
     "metadata": {},
     "output_type": "execute_result"
    }
   ],
   "source": [
    "dfs = []\n",
    "for data_file in data_files:\n",
    "    dfs.append(pd.read_csv(data_file, index_col=0))\n",
    "df = pd.concat(dfs)\n",
    "df"
   ]
  },
  {
   "cell_type": "code",
   "execution_count": 38,
   "metadata": {},
   "outputs": [
    {
     "name": "stdout",
     "output_type": "stream",
     "text": [
      "tcc          101\n",
      "ltng           1\n",
      "gh          4206\n",
      "u10        13836\n",
      "v10        13844\n",
      "t2m        13749\n",
      "d2m        10051\n",
      "r2           898\n",
      "mdens       4105\n",
      "hcc          103\n",
      "lcc          101\n",
      "mcc          101\n",
      "t          13457\n",
      "sp           412\n",
      "vis          850\n",
      "prate          1\n",
      "sde            5\n",
      "tp             1\n",
      "crain          1\n",
      "cfrzr          1\n",
      "cicep          1\n",
      "csnow          1\n",
      "cpofp          1\n",
      "snowc          2\n",
      "gust       13850\n",
      "vbdsf       1631\n",
      "vddsf       2283\n",
      "gppbfas        1\n",
      "dtype: int64\n"
     ]
    }
   ],
   "source": [
    "print(df.apply(lambda col: col.nunique()))"
   ]
  },
  {
   "cell_type": "markdown",
   "metadata": {},
   "source": [
    "what is `gh` a shortName for? geopotential hieght  \n",
    "What is `t` a shortName for? surface temperature   \n",
    "What is `tp` a shartName for? liquid precipitation depth    \n",
    "\n",
    "what should I do for things like prate which only have one value... need new variable  \n",
    "\n",
    "### Variables in primary variables not accounted for:\n",
    "`precipitable water`, `aerosol optical depth`, `liquid precipitation depth`, `vertically integrated smoke`, `vegetation type`,\n",
    "\n",
    "Solved by removing parenthesis in search_string\n",
    "\n",
    "### Variables that may need to change to capture what's actually happening\n",
    "`prate`, `tp`, `crain`, `cfrzr`, `cicep`, `csnow`, `cpofp`\n",
    "\n",
    "Generally precipitation does not show up well. Precipitation is measured as accumulated precipitation over time. Analysis is 0h-0h so by definition, being integrated over 0 time results in 0. See: https://github.com/blaylockbk/Herbie/discussions/10\n",
    "\n",
    "__Solutions:__  \n",
    "* Use the 0h-1h forecast as the analysis\n",
    "* Use radar reflectivity to regress the precipitation and categorical types\n",
    "* RTMA/URMA (seems similar to the HRRR 1h forecast)\n",
    "* Multi-radar/multi-sensor 1h accumulated precipitation estimates\n"
   ]
  },
  {
   "cell_type": "markdown",
   "metadata": {},
   "source": [
    "#### RTMA Precipitation\n",
    "RTMA does not have index files so have to download the whole file and analyze with wgrib2 which isn't avaiable on windows... Seems like a long workaround. Esp since it took ~40s to download"
   ]
  },
  {
   "cell_type": "code",
   "execution_count": 12,
   "metadata": {},
   "outputs": [],
   "source": [
    "# H0 = Herbie(\"2022-01-1 12:00:00\",\n",
    "#     model=\"rtma\",\n",
    "#     product=\"anl\")\n",
    "# H0.download()\n",
    "# H0.inventory()"
   ]
  },
  {
   "cell_type": "markdown",
   "metadata": {},
   "source": [
    "### Forecast Precipitation\n",
    "Use the preipitation forecasted an hour before...  \n",
    "__TODO__ I Need to verify that this is close enough"
   ]
  },
  {
   "cell_type": "code",
   "execution_count": 14,
   "metadata": {},
   "outputs": [
    {
     "name": "stdout",
     "output_type": "stream",
     "text": [
      "✅ Found ┊ model=hrrr ┊ \u001b[3mproduct=sfc\u001b[0m ┊ \u001b[38;2;41;130;13m2022-Jun-15 12:00 UTC\u001b[92m F00\u001b[0m ┊ \u001b[38;2;255;153;0m\u001b[3mGRIB2 @ aws\u001b[0m ┊ \u001b[38;2;255;153;0m\u001b[3mIDX @ aws\u001b[0m\n",
      "✅ Found ┊ model=hrrr ┊ \u001b[3mproduct=sfc\u001b[0m ┊ \u001b[38;2;41;130;13m2022-Jun-15 11:00 UTC\u001b[92m F01\u001b[0m ┊ \u001b[38;2;255;153;0m\u001b[3mGRIB2 @ aws\u001b[0m ┊ \u001b[38;2;255;153;0m\u001b[3mIDX @ aws\u001b[0m\n"
     ]
    }
   ],
   "source": [
    "dt0 = datetime.datetime(2022,8,15,12)\n",
    "dt1 = dt0 - datetime.timedelta(hours=1)\n",
    "H0 = Herbie(dt0, model=\"hrrr\", product=\"sfc\", fxx=0)\n",
    "H1 = Herbie(dt1, model=\"hrrr\", product=\"sfc\", fxx=1)"
   ]
  },
  {
   "cell_type": "markdown",
   "metadata": {},
   "source": [
    "## Herbie Speedup: doing xarray for 1 thing was fast... do thins for each variable or groups?"
   ]
  },
  {
   "cell_type": "markdown",
   "metadata": {},
   "source": [
    "search_string method"
   ]
  },
  {
   "cell_type": "code",
   "execution_count": 7,
   "metadata": {},
   "outputs": [
    {
     "name": "stdout",
     "output_type": "stream",
     "text": [
      "✅ Found ┊ model=hrrr ┊ \u001b[3mproduct=sfc\u001b[0m ┊ \u001b[38;2;41;130;13m2022-Aug-10 12:00 UTC\u001b[92m F00\u001b[0m ┊ \u001b[38;2;255;153;0m\u001b[3mGRIB2 @ aws\u001b[0m ┊ \u001b[38;2;255;153;0m\u001b[3mIDX @ aws\u001b[0m\n",
      "✅ Found ┊ model=hrrr ┊ \u001b[3mproduct=sfc\u001b[0m ┊ \u001b[38;2;41;130;13m2022-Aug-10 11:00 UTC\u001b[92m F01\u001b[0m ┊ \u001b[38;2;255;153;0m\u001b[3mGRIB2 @ aws\u001b[0m ┊ \u001b[38;2;255;153;0m\u001b[3mIDX @ aws\u001b[0m\n"
     ]
    },
    {
     "name": "stderr",
     "output_type": "stream",
     "text": [
      "/Users/jeh/anaconda3/envs/amy/lib/python3.8/site-packages/herbie/core.py:797: UserWarning: This pattern is interpreted as a regular expression, and has match groups. To actually get the groups, use str.extract.\n",
      "  logic = df.search_this.str.contains(searchString)\n"
     ]
    },
    {
     "name": "stdout",
     "output_type": "stream",
     "text": [
      "👨🏻‍🏭 Created directory: [/Users/jeh/data/hrrr/20220810]\n",
      "Note: Returning a list of [10] xarray.Datasets because cfgrib opened with multiple hypercubes.\n"
     ]
    },
    {
     "name": "stderr",
     "output_type": "stream",
     "text": [
      "/Users/jeh/anaconda3/envs/amy/lib/python3.8/site-packages/herbie/core.py:797: UserWarning: This pattern is interpreted as a regular expression, and has match groups. To actually get the groups, use str.extract.\n",
      "  logic = df.search_this.str.contains(searchString)\n"
     ]
    },
    {
     "name": "stdout",
     "output_type": "stream",
     "text": [
      "Note: Returning a list of [2] xarray.Datasets because cfgrib opened with multiple hypercubes.\n"
     ]
    }
   ],
   "source": [
    "analysis_data = {}\n",
    "\n",
    "dt0 = datetime.datetime(2022,8,10,12)\n",
    "dt1 = dt0 - datetime.timedelta(hours=1)\n",
    "\n",
    "H0 = Herbie(dt0, model=\"hrrr\", product=\"sfc\", fxx=0)\n",
    "H1 = Herbie(dt1, model=\"hrrr\", product=\"sfc\", fxx=1)\n",
    "\n",
    "H0_search_string = utils.get_search_string([i.get(\"searchstring\") for i in constants._grib_variables_0h.values()])\n",
    "H1_search_string = utils.get_search_string([i.get(\"searchstring\") for i in constants._grib_variables_1h.values()])\n",
    "\n",
    "H0_data = H0.xarray(H0_search_string)\n",
    "H1_data = H1.xarray(H1_search_string)\n",
    "\n",
    "for H0_data_i in H0_data:\n",
    "    H0_data_i = H0_data_i.drop_vars([\"time\", \"step\", \"valid_time\"])\n",
    "    H0_data_i = H0_data_i.herbie.nearest_points((longitude, latitude))\n",
    "    for data_var in list(H0_data_i.data_vars)[:-1]:\n",
    "        analysis_data[data_var] = H0_data_i[data_var].values[0]\n",
    "for H1_data_i in H1_data:\n",
    "    H1_data_i = H1_data_i.drop_vars([\"time\", \"step\", \"valid_time\"])\n",
    "    H1_data_i = H1_data_i.herbie.nearest_points((longitude, latitude))\n",
    "    for data_var in list(H1_data_i.data_vars)[:-1]:\n",
    "        analysis_data[data_var] = H1_data_i[data_var].values[0]"
   ]
  },
  {
   "cell_type": "code",
   "execution_count": 8,
   "metadata": {},
   "outputs": [
    {
     "name": "stdout",
     "output_type": "stream",
     "text": [
      "✅ Found ┊ model=hrrr ┊ \u001b[3mproduct=sfc\u001b[0m ┊ \u001b[38;2;41;130;13m2022-Aug-11 12:00 UTC\u001b[92m F00\u001b[0m ┊ \u001b[38;2;255;153;0m\u001b[3mGRIB2 @ aws\u001b[0m ┊ \u001b[38;2;255;153;0m\u001b[3mIDX @ aws\u001b[0m\n",
      "✅ Found ┊ model=hrrr ┊ \u001b[3mproduct=sfc\u001b[0m ┊ \u001b[38;2;41;130;13m2022-Aug-11 11:00 UTC\u001b[92m F01\u001b[0m ┊ \u001b[38;2;255;153;0m\u001b[3mGRIB2 @ aws\u001b[0m ┊ \u001b[38;2;255;153;0m\u001b[3mIDX @ aws\u001b[0m\n"
     ]
    },
    {
     "name": "stderr",
     "output_type": "stream",
     "text": [
      "/Users/jeh/anaconda3/envs/amy/lib/python3.8/site-packages/herbie/core.py:797: UserWarning: This pattern is interpreted as a regular expression, and has match groups. To actually get the groups, use str.extract.\n",
      "  logic = df.search_this.str.contains(searchString)\n"
     ]
    },
    {
     "name": "stdout",
     "output_type": "stream",
     "text": [
      "👨🏻‍🏭 Created directory: [/Users/jeh/data/hrrr/20220811]\n"
     ]
    },
    {
     "name": "stderr",
     "output_type": "stream",
     "text": [
      "/Users/jeh/anaconda3/envs/amy/lib/python3.8/site-packages/herbie/core.py:797: UserWarning: This pattern is interpreted as a regular expression, and has match groups. To actually get the groups, use str.extract.\n",
      "  logic = df.search_this.str.contains(searchString)\n",
      "/Users/jeh/anaconda3/envs/amy/lib/python3.8/site-packages/herbie/core.py:797: UserWarning: This pattern is interpreted as a regular expression, and has match groups. To actually get the groups, use str.extract.\n",
      "  logic = df.search_this.str.contains(searchString)\n",
      "/Users/jeh/anaconda3/envs/amy/lib/python3.8/site-packages/herbie/core.py:797: UserWarning: This pattern is interpreted as a regular expression, and has match groups. To actually get the groups, use str.extract.\n",
      "  logic = df.search_this.str.contains(searchString)\n",
      "/Users/jeh/anaconda3/envs/amy/lib/python3.8/site-packages/herbie/core.py:797: UserWarning: This pattern is interpreted as a regular expression, and has match groups. To actually get the groups, use str.extract.\n",
      "  logic = df.search_this.str.contains(searchString)\n",
      "/Users/jeh/anaconda3/envs/amy/lib/python3.8/site-packages/herbie/core.py:797: UserWarning: This pattern is interpreted as a regular expression, and has match groups. To actually get the groups, use str.extract.\n",
      "  logic = df.search_this.str.contains(searchString)\n",
      "/Users/jeh/anaconda3/envs/amy/lib/python3.8/site-packages/herbie/core.py:797: UserWarning: This pattern is interpreted as a regular expression, and has match groups. To actually get the groups, use str.extract.\n",
      "  logic = df.search_this.str.contains(searchString)\n",
      "/Users/jeh/anaconda3/envs/amy/lib/python3.8/site-packages/herbie/core.py:797: UserWarning: This pattern is interpreted as a regular expression, and has match groups. To actually get the groups, use str.extract.\n",
      "  logic = df.search_this.str.contains(searchString)\n",
      "/Users/jeh/anaconda3/envs/amy/lib/python3.8/site-packages/herbie/core.py:797: UserWarning: This pattern is interpreted as a regular expression, and has match groups. To actually get the groups, use str.extract.\n",
      "  logic = df.search_this.str.contains(searchString)\n",
      "/Users/jeh/anaconda3/envs/amy/lib/python3.8/site-packages/herbie/core.py:797: UserWarning: This pattern is interpreted as a regular expression, and has match groups. To actually get the groups, use str.extract.\n",
      "  logic = df.search_this.str.contains(searchString)\n",
      "/Users/jeh/anaconda3/envs/amy/lib/python3.8/site-packages/herbie/core.py:797: UserWarning: This pattern is interpreted as a regular expression, and has match groups. To actually get the groups, use str.extract.\n",
      "  logic = df.search_this.str.contains(searchString)\n",
      "/Users/jeh/anaconda3/envs/amy/lib/python3.8/site-packages/herbie/core.py:797: UserWarning: This pattern is interpreted as a regular expression, and has match groups. To actually get the groups, use str.extract.\n",
      "  logic = df.search_this.str.contains(searchString)\n"
     ]
    }
   ],
   "source": [
    "analysis_data = {}\n",
    "\n",
    "dt0 = dt0 + datetime.timedelta(days=1)\n",
    "dt1 = dt0 - datetime.timedelta(hours=1)\n",
    "\n",
    "H0 = Herbie(dt0, model=\"hrrr\", product=\"sfc\", fxx=0)\n",
    "H1 = Herbie(dt1, model=\"hrrr\", product=\"sfc\", fxx=1)\n",
    "\n",
    "search_string_groups_0h = [\n",
    "    [constants._grib_variables_0h.get(var).get(\"searchstring\") for var in variables]\n",
    "    for variables in constants._grib_variable_groups_0h]\n",
    "\n",
    "search_string_groups_1h = [\n",
    "    [constants._grib_variables_1h.get(var).get(\"searchstring\") for var in variables]\n",
    "    for variables in constants._grib_variable_groups_1h]\n",
    "\n",
    "for variable_group in search_string_groups_0h:\n",
    "    search_string = utils.get_search_string(variable_group)\n",
    "    H_data_i = H0.xarray(search_string)\n",
    "    H_data_i = H_data_i.drop_vars([\"time\", \"step\", \"valid_time\"])\n",
    "    H_data_i = H_data_i.herbie.nearest_points((longitude, latitude))\n",
    "    for data_var in list(H_data_i.data_vars)[:-1]:\n",
    "        analysis_data[data_var] = H_data_i[data_var].values[0]\n",
    "        \n",
    "for variable_group in search_string_groups_1h:\n",
    "    search_string = utils.get_search_string(variable_group)\n",
    "    H_data_i = H1.xarray(search_string)\n",
    "    H_data_i = H_data_i.drop_vars([\"time\", \"step\", \"valid_time\"])\n",
    "    H_data_i = H_data_i.herbie.nearest_points((longitude, latitude))\n",
    "    for data_var in list(H_data_i.data_vars)[:-1]:\n",
    "        analysis_data[data_var] = H_data_i[data_var].values[0]"
   ]
  },
  {
   "cell_type": "markdown",
   "metadata": {},
   "source": [
    "__conclusion:__ these multiple searches actually slow it down. keep the current system"
   ]
  },
  {
   "cell_type": "markdown",
   "metadata": {},
   "source": [
    "### Final Test"
   ]
  },
  {
   "cell_type": "code",
   "execution_count": 2,
   "metadata": {},
   "outputs": [],
   "source": [
    "dt = datetime.datetime(2021, 12, 1, 12)\n",
    "cache_dir = os.path.join(\"..\", \"cache\")\n",
    "latitude = latitude = 29.25  # N\n",
    "longitude =   360-98.31  # W\n",
    "search_string_0h = utils.get_search_string([i.get(\"searchstring\") for i in constants._grib_variables_0h.values()])\n",
    "search_string_1h = utils.get_search_string([i.get(\"searchstring\") for i in constants._grib_variables_1h.values()])\n",
    "\n",
    "\n"
   ]
  },
  {
   "cell_type": "code",
   "execution_count": 3,
   "metadata": {},
   "outputs": [
    {
     "name": "stdout",
     "output_type": "stream",
     "text": [
      "✅ Found ┊ model=hrrr ┊ \u001b[3mproduct=sfc\u001b[0m ┊ \u001b[38;2;41;130;13m2021-Dec-01 12:00 UTC\u001b[92m F00\u001b[0m ┊ \u001b[38;2;255;153;0m\u001b[3mGRIB2 @ aws\u001b[0m ┊ \u001b[38;2;255;153;0m\u001b[3mIDX @ aws\u001b[0m\n",
      "✅ Found ┊ model=hrrr ┊ \u001b[3mproduct=sfc\u001b[0m ┊ \u001b[38;2;41;130;13m2021-Dec-01 11:00 UTC\u001b[92m F01\u001b[0m ┊ \u001b[38;2;255;153;0m\u001b[3mGRIB2 @ aws\u001b[0m ┊ \u001b[38;2;255;153;0m\u001b[3mIDX @ aws\u001b[0m\n"
     ]
    },
    {
     "name": "stderr",
     "output_type": "stream",
     "text": [
      "/Users/jeh/anaconda3/envs/amy/lib/python3.8/site-packages/herbie/core.py:797: UserWarning: This pattern is interpreted as a regular expression, and has match groups. To actually get the groups, use str.extract.\n",
      "  logic = df.search_this.str.contains(searchString)\n"
     ]
    },
    {
     "name": "stdout",
     "output_type": "stream",
     "text": [
      "Note: Returning a list of [10] xarray.Datasets because cfgrib opened with multiple hypercubes.\n"
     ]
    },
    {
     "name": "stderr",
     "output_type": "stream",
     "text": [
      "/Users/jeh/anaconda3/envs/amy/lib/python3.8/site-packages/herbie/core.py:797: UserWarning: This pattern is interpreted as a regular expression, and has match groups. To actually get the groups, use str.extract.\n",
      "  logic = df.search_this.str.contains(searchString)\n"
     ]
    },
    {
     "name": "stdout",
     "output_type": "stream",
     "text": [
      "Note: Returning a list of [2] xarray.Datasets because cfgrib opened with multiple hypercubes.\n"
     ]
    }
   ],
   "source": [
    "H0 = Herbie(\n",
    "dt,\n",
    "model='hrrr',\n",
    "product='sfc',\n",
    "fxx=0\n",
    ")\n",
    "H1 = Herbie(\n",
    "dt - datetime.timedelta(hours=1),\n",
    "model='hrrr',\n",
    "product='sfc',\n",
    "fxx=1\n",
    ")\n",
    "\n",
    "H0_data = H0.xarray(searchString=search_string_0h)\n",
    "H1_data = H1.xarray(searchString=search_string_1h)"
   ]
  },
  {
   "cell_type": "code",
   "execution_count": 4,
   "metadata": {},
   "outputs": [
    {
     "ename": "TypeError",
     "evalue": "unsupported operand type(s) for |: 'dict' and 'dict'",
     "output_type": "error",
     "traceback": [
      "\u001b[0;31m---------------------------------------------------------------------------\u001b[0m",
      "\u001b[0;31mTypeError\u001b[0m                                 Traceback (most recent call last)",
      "Cell \u001b[0;32mIn[4], line 4\u001b[0m\n\u001b[1;32m      1\u001b[0m H0_selected_data \u001b[39m=\u001b[39m utils\u001b[39m.\u001b[39mparse_xarray_data(H0_data, latitude, longitude)\n\u001b[1;32m      2\u001b[0m H1_selected_data \u001b[39m=\u001b[39m utils\u001b[39m.\u001b[39mparse_xarray_data(H1_data, latitude, longitude)\n\u001b[0;32m----> 4\u001b[0m analysis_data \u001b[39m=\u001b[39m H0_selected_data \u001b[39m|\u001b[39;49m H1_selected_data\n",
      "\u001b[0;31mTypeError\u001b[0m: unsupported operand type(s) for |: 'dict' and 'dict'"
     ]
    }
   ],
   "source": [
    "H0_selected_data = utils.parse_xarray_data(H0_data, latitude, longitude)\n",
    "H1_selected_data = utils.parse_xarray_data(H1_data, latitude, longitude)\n",
    "\n",
    "analysis_data = H0_selected_data | H1_selected_data"
   ]
  },
  {
   "cell_type": "code",
   "execution_count": null,
   "metadata": {},
   "outputs": [],
   "source": []
  }
 ],
 "metadata": {
  "kernelspec": {
   "display_name": "amy",
   "language": "python",
   "name": "python3"
  },
  "language_info": {
   "codemirror_mode": {
    "name": "ipython",
    "version": 3
   },
   "file_extension": ".py",
   "mimetype": "text/x-python",
   "name": "python",
   "nbconvert_exporter": "python",
   "pygments_lexer": "ipython3",
   "version": "3.8.17"
  },
  "orig_nbformat": 4
 },
 "nbformat": 4,
 "nbformat_minor": 2
}

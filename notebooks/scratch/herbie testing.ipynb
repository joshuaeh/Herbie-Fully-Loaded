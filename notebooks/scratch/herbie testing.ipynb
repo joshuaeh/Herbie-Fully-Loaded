{
 "cells": [
  {
   "cell_type": "code",
   "execution_count": 1,
   "metadata": {},
   "outputs": [],
   "source": [
    "from herbie import Herbie"
   ]
  },
  {
   "cell_type": "code",
   "execution_count": 28,
   "metadata": {},
   "outputs": [
    {
     "name": "stdout",
     "output_type": "stream",
     "text": [
      "✅ Found ┊ model=hrrr ┊ \u001b[3mproduct=sfc\u001b[0m ┊ \u001b[38;2;41;130;13m2022-Jan-01 12:00 UTC\u001b[92m F00\u001b[0m ┊ \u001b[38;2;255;153;0m\u001b[3mGRIB2 @ aws\u001b[0m ┊ \u001b[38;2;255;153;0m\u001b[3mIDX @ aws\u001b[0m\n"
     ]
    }
   ],
   "source": [
    "H = Herbie(\n",
    "    \"2022-01-01 12:00\",\n",
    "    model=\"hrrr\",\n",
    "    product=\"sfc\",\n",
    "    fxx=0,\n",
    ")"
   ]
  },
  {
   "cell_type": "markdown",
   "metadata": {},
   "source": [
    "N6 - Dry Bulb Temperature [K] - \":TMP:2 m above ground:anl\" - 39737488-40938693  \n",
    "N7 - Dew Point Temperature [K] - \":DPT:2 m above ground:anl\" - 43454474-44671060  \n",
    "N8 - Relative Humidity [%] - \":RH:2 m above ground:anl\" - 44671060-46274336  \n",
    "N9 - Atmospheric Pressure [Pa] - \":PRES:surface:anl\" - 31404975-32921708  \n",
    "N10 -   \n",
    "N11 -   \n",
    "N12 - Horizontal Infrared Radiation Intensity [Wh/m2] -   \n",
    "N13 -   \n",
    "N14 - Direct Normal Radiation [Wh/m2] - \":VBDSF:surface:anl\" - 88462215-88617167  \n",
    "N15 - Diffuse Horizontal Irradiance [Wh/m2] - \":VDDSF:surface:anl\" - 88617167-88798687  \n",
    "N16 -   \n",
    "N17 -   \n",
    "N18 -   \n",
    "N19 -   \n",
    "N20 - Wind Direction [degrees]  \n",
    "N20a - Wind Speed U component (E/W) at 10-m - \":UGRD:10 m above ground:anl\" - 46609137-48990752  \n",
    "N20b - Wind Speed V component (N/S) at 10-m - \":VGRD:10 m above ground:anl\" - 48990752-51372367  \n",
    "N21 - Wind Speed [m/s]  \n",
    "N22 -   \n",
    "N23 -   \n",
    "N24 -   \n",
    "N25 -   \n",
    "N26 - Present Weather Observation [] - 0 if weater observatio made, 9 if not (also implies no rain)  \n",
    "N27 - Present Weather Codes [9 integers] -   \n",
    "N28 - Precipitable Water [kg/m^2 = mm] - \"PWAT:entire atmosphere (considered as a single layer)\" - 67048796-67852034  \n",
    "N29 -   \n",
    "N30 - Snow Depth [m] - \":SNOD:surface:anl\" - 39075965-39737488 (should x100 for cm)  \n",
    "N31 -   \n",
    "N32 -   \n",
    "N33 -   \n",
    "N34 -   \n",
    "\n",
    "\n",
    "approximate opaque sky cover with \":TCDC:\"/10"
   ]
  },
  {
   "cell_type": "code",
   "execution_count": 31,
   "metadata": {},
   "outputs": [
    {
     "data": {
      "text/html": [
       "<div>\n",
       "<style scoped>\n",
       "    .dataframe tbody tr th:only-of-type {\n",
       "        vertical-align: middle;\n",
       "    }\n",
       "\n",
       "    .dataframe tbody tr th {\n",
       "        vertical-align: top;\n",
       "    }\n",
       "\n",
       "    .dataframe thead th {\n",
       "        text-align: right;\n",
       "    }\n",
       "</style>\n",
       "<table border=\"1\" class=\"dataframe\">\n",
       "  <thead>\n",
       "    <tr style=\"text-align: right;\">\n",
       "      <th></th>\n",
       "      <th>grib_message</th>\n",
       "      <th>start_byte</th>\n",
       "      <th>end_byte</th>\n",
       "      <th>range</th>\n",
       "      <th>reference_time</th>\n",
       "      <th>valid_time</th>\n",
       "      <th>variable</th>\n",
       "      <th>level</th>\n",
       "      <th>forecast_time</th>\n",
       "      <th>search_this</th>\n",
       "    </tr>\n",
       "  </thead>\n",
       "  <tbody>\n",
       "    <tr>\n",
       "      <th>108</th>\n",
       "      <td>109</td>\n",
       "      <td>67852222</td>\n",
       "      <td>68334333</td>\n",
       "      <td>67852222-68334333</td>\n",
       "      <td>2022-01-01 12:00:00</td>\n",
       "      <td>2022-01-01 12:00:00</td>\n",
       "      <td>COLMD</td>\n",
       "      <td>entire atmosphere (considered as a single layer)</td>\n",
       "      <td>anl</td>\n",
       "      <td>:COLMD:entire atmosphere (considered as a sing...</td>\n",
       "    </tr>\n",
       "  </tbody>\n",
       "</table>\n",
       "</div>"
      ],
      "text/plain": [
       "     grib_message  start_byte  end_byte              range  \\\n",
       "108           109    67852222  68334333  67852222-68334333   \n",
       "\n",
       "         reference_time          valid_time variable  \\\n",
       "108 2022-01-01 12:00:00 2022-01-01 12:00:00    COLMD   \n",
       "\n",
       "                                                level forecast_time  \\\n",
       "108  entire atmosphere (considered as a single layer)           anl   \n",
       "\n",
       "                                           search_this  \n",
       "108  :COLMD:entire atmosphere (considered as a sing...  "
      ]
     },
     "execution_count": 31,
     "metadata": {},
     "output_type": "execute_result"
    }
   ],
   "source": [
    "H.inventory(\"COLMD\")"
   ]
  },
  {
   "cell_type": "code",
   "execution_count": 14,
   "metadata": {},
   "outputs": [],
   "source": [
    "b = H.get_byte_ranges(\":SPFH:\")"
   ]
  },
  {
   "cell_type": "code",
   "execution_count": 5,
   "metadata": {},
   "outputs": [
    {
     "data": {
      "text/plain": [
       "(array([[39075965, 39737488]], dtype=object), 16)"
      ]
     },
     "execution_count": 5,
     "metadata": {},
     "output_type": "execute_result"
    }
   ],
   "source": [
    "b, b.nbytes"
   ]
  },
  {
   "cell_type": "code",
   "execution_count": 6,
   "metadata": {},
   "outputs": [
    {
     "data": {
      "text/plain": [
       "(array([[39075965, 39737488]]), 16)"
      ]
     },
     "execution_count": 6,
     "metadata": {},
     "output_type": "execute_result"
    }
   ],
   "source": [
    "b = b.astype(\"int\")\n",
    "b, b.nbytes"
   ]
  },
  {
   "cell_type": "code",
   "execution_count": 7,
   "metadata": {},
   "outputs": [
    {
     "data": {
      "text/plain": [
       "PosixPath('/Users/jeh/data/hrrr/20220101/subset_a3efa90a__hrrr.t12z.wrfsfcf00.grib2')"
      ]
     },
     "execution_count": 7,
     "metadata": {},
     "output_type": "execute_result"
    }
   ],
   "source": [
    "H.download(\":SNOD:surface:anl\")"
   ]
  },
  {
   "cell_type": "code",
   "execution_count": null,
   "metadata": {},
   "outputs": [],
   "source": []
  }
 ],
 "metadata": {
  "kernelspec": {
   "display_name": "amy",
   "language": "python",
   "name": "python3"
  },
  "language_info": {
   "codemirror_mode": {
    "name": "ipython",
    "version": 3
   },
   "file_extension": ".py",
   "mimetype": "text/x-python",
   "name": "python",
   "nbconvert_exporter": "python",
   "pygments_lexer": "ipython3",
   "version": "3.8.17"
  },
  "orig_nbformat": 4
 },
 "nbformat": 4,
 "nbformat_minor": 2
}

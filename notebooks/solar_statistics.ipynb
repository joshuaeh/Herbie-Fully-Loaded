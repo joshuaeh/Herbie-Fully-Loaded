{
 "cells": [
  {
   "cell_type": "markdown",
   "metadata": {},
   "source": [
    "# Solar Statistics Calculations\n",
    "\n",
    "A number of properties are dependent on solar position etc. We use PVLib to calculate solar position and subsequent properties"
   ]
  },
  {
   "cell_type": "code",
   "execution_count": 1,
   "metadata": {},
   "outputs": [],
   "source": [
    "import sys\n",
    "sys.path.append('../gnomy/')\n",
    "import constants, core, utils"
   ]
  },
  {
   "cell_type": "code",
   "execution_count": 2,
   "metadata": {},
   "outputs": [],
   "source": [
    "import pandas as pd\n",
    "import numpy as np\n",
    "from pvlib import solarposition\n",
    "import datetime"
   ]
  },
  {
   "cell_type": "markdown",
   "metadata": {},
   "source": [
    "The function accepts a datetime index"
   ]
  },
  {
   "cell_type": "code",
   "execution_count": 19,
   "metadata": {},
   "outputs": [
    {
     "data": {
      "text/plain": [
       "DatetimeIndex(['2020-01-01 00:00:00', '2020-01-01 01:00:00',\n",
       "               '2020-01-01 02:00:00', '2020-01-01 03:00:00',\n",
       "               '2020-01-01 04:00:00', '2020-01-01 05:00:00',\n",
       "               '2020-01-01 06:00:00', '2020-01-01 07:00:00',\n",
       "               '2020-01-01 08:00:00', '2020-01-01 09:00:00',\n",
       "               ...\n",
       "               '2020-12-31 14:00:00', '2020-12-31 15:00:00',\n",
       "               '2020-12-31 16:00:00', '2020-12-31 17:00:00',\n",
       "               '2020-12-31 18:00:00', '2020-12-31 19:00:00',\n",
       "               '2020-12-31 20:00:00', '2020-12-31 21:00:00',\n",
       "               '2020-12-31 22:00:00', '2020-12-31 23:00:00'],\n",
       "              dtype='datetime64[ns]', length=8784, freq='H')"
      ]
     },
     "execution_count": 19,
     "metadata": {},
     "output_type": "execute_result"
    }
   ],
   "source": [
    "start_date = datetime.datetime(2020, 1, 1)\n",
    "end_date = datetime.datetime(2020, 12, 31, 23)\n",
    "latitude=29.25\n",
    "longitude=360-98.31\n",
    "dt_index = pd.date_range(start=start_date, end=end_date, freq='1H')\n",
    "dt_index"
   ]
  },
  {
   "cell_type": "markdown",
   "metadata": {},
   "source": [
    "We resample to 5 minute measurements so that average measurements are more accurate with nonlinear functions dependent on angles, etc.  \n",
    "\n",
    "Since the measurements are sometimes aggregated for the whole period previous, we change the range to ($t_{0-1}$ to $t_f$)"
   ]
  },
  {
   "cell_type": "code",
   "execution_count": 20,
   "metadata": {},
   "outputs": [
    {
     "data": {
      "text/plain": [
       "DatetimeIndex(['2019-12-31 23:00:00', '2019-12-31 23:05:00',\n",
       "               '2019-12-31 23:10:00', '2019-12-31 23:15:00',\n",
       "               '2019-12-31 23:20:00', '2019-12-31 23:25:00',\n",
       "               '2019-12-31 23:30:00', '2019-12-31 23:35:00',\n",
       "               '2019-12-31 23:40:00', '2019-12-31 23:45:00',\n",
       "               ...\n",
       "               '2020-12-31 22:15:00', '2020-12-31 22:20:00',\n",
       "               '2020-12-31 22:25:00', '2020-12-31 22:30:00',\n",
       "               '2020-12-31 22:35:00', '2020-12-31 22:40:00',\n",
       "               '2020-12-31 22:45:00', '2020-12-31 22:50:00',\n",
       "               '2020-12-31 22:55:00', '2020-12-31 23:00:00'],\n",
       "              dtype='datetime64[ns]', length=105409, freq='5T')"
      ]
     },
     "execution_count": 20,
     "metadata": {},
     "output_type": "execute_result"
    }
   ],
   "source": [
    "offset_timedelta = pd.Timedelta(dt_index.freq)\n",
    "dt_index_resampled = pd.date_range(start_date - offset_timedelta, end_date, freq='5Min')\n",
    "dt_index_resampled"
   ]
  },
  {
   "cell_type": "markdown",
   "metadata": {},
   "source": [
    "Using PVLib, we calculate the `solar zenith angle` and get the average angle for the preceeding period. We also ensure that we have the same start and end dates as the original series. The `label` argument in `df.resample` determines whether an interval is labeled by the start or end of the interval"
   ]
  },
  {
   "cell_type": "code",
   "execution_count": 32,
   "metadata": {},
   "outputs": [
    {
     "data": {
      "text/plain": [
       "2020-01-01 00:00:00     87.397902\n",
       "2020-01-01 01:00:00     99.257037\n",
       "2020-01-01 02:00:00    111.672379\n",
       "2020-01-01 03:00:00    124.449457\n",
       "2020-01-01 04:00:00    137.442827\n",
       "                          ...    \n",
       "2020-12-31 19:00:00     52.479484\n",
       "2020-12-31 20:00:00     53.834893\n",
       "2020-12-31 21:00:00     58.794862\n",
       "2020-12-31 22:00:00     66.563672\n",
       "2020-12-31 23:00:00     76.284876\n",
       "Freq: H, Name: zenith, Length: 8784, dtype: float64"
      ]
     },
     "execution_count": 32,
     "metadata": {},
     "output_type": "execute_result"
    }
   ],
   "source": [
    "sp = solarposition.get_solarposition(dt_index_resampled, latitude, longitude)\n",
    "zenith = sp[\"zenith\"].resample(offset_timedelta, label=\"right\").mean()[start_date:end_date]\n",
    "zenith"
   ]
  },
  {
   "cell_type": "code",
   "execution_count": null,
   "metadata": {},
   "outputs": [],
   "source": []
  }
 ],
 "metadata": {
  "kernelspec": {
   "display_name": "amy",
   "language": "python",
   "name": "python3"
  },
  "language_info": {
   "codemirror_mode": {
    "name": "ipython",
    "version": 3
   },
   "file_extension": ".py",
   "mimetype": "text/x-python",
   "name": "python",
   "nbconvert_exporter": "python",
   "pygments_lexer": "ipython3",
   "version": "3.8.17"
  },
  "orig_nbformat": 4
 },
 "nbformat": 4,
 "nbformat_minor": 2
}
